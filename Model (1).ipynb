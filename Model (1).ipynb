{
 "cells": [
  {
   "cell_type": "code",
   "execution_count": 1,
   "id": "2b657649",
   "metadata": {},
   "outputs": [],
   "source": [
    "import pickle\n",
    "import tensorflow as tf"
   ]
  },
  {
   "cell_type": "code",
   "execution_count": 2,
   "id": "b4c1ec79",
   "metadata": {},
   "outputs": [],
   "source": [
    "X_train=pickle.load(open('X_train.pkl','rb'))\n",
    "y_train=pickle.load(open('y_train.pkl','rb'))"
   ]
  },
  {
   "cell_type": "code",
   "execution_count": 3,
   "id": "72df4902",
   "metadata": {},
   "outputs": [],
   "source": [
    "X_val=pickle.load(open('X_val.pkl','rb'))\n",
    "y_val=pickle.load(open('y_val.pkl','rb'))"
   ]
  },
  {
   "cell_type": "code",
   "execution_count": 4,
   "id": "72669cca",
   "metadata": {},
   "outputs": [],
   "source": [
    "X_train=X_train/255"
   ]
  },
  {
   "cell_type": "code",
   "execution_count": 5,
   "id": "25ffa962",
   "metadata": {},
   "outputs": [],
   "source": [
    "X_val=X_val/255"
   ]
  },
  {
   "cell_type": "code",
   "execution_count": 6,
   "id": "34a58344",
   "metadata": {},
   "outputs": [
    {
     "data": {
      "text/plain": [
       "(18000, 200, 200, 3)"
      ]
     },
     "execution_count": 6,
     "metadata": {},
     "output_type": "execute_result"
    }
   ],
   "source": [
    "X_train.shape"
   ]
  },
  {
   "cell_type": "code",
   "execution_count": 6,
   "id": "6d6be1b7",
   "metadata": {},
   "outputs": [],
   "source": [
    "from keras.models import Sequential\n",
    "from keras.layers import Conv2D, MaxPooling2D, Flatten, Dense, Rescaling\n",
    "# baseline model with dropout for the dogs vs cats dataset\n",
    "import sys\n",
    "from matplotlib import pyplot\n",
    "from keras.utils import to_categorical\n",
    "from keras.models import Sequential\n",
    "from keras.layers import Conv2D\n",
    "from keras.layers import MaxPooling2D\n",
    "from keras.layers import Dense\n",
    "from keras.layers import Flatten\n",
    "from keras.layers import Dropout\n",
    "from keras.optimizers import SGD\n",
    "from keras.preprocessing.image import ImageDataGenerator"
   ]
  },
  {
   "cell_type": "code",
   "execution_count": 12,
   "id": "539cc7b1",
   "metadata": {},
   "outputs": [
    {
     "data": {
      "text/plain": [
       "(18000,)"
      ]
     },
     "execution_count": 12,
     "metadata": {},
     "output_type": "execute_result"
    }
   ],
   "source": [
    "y_train.shape"
   ]
  },
  {
   "cell_type": "code",
   "execution_count": 7,
   "id": "c7e596c9",
   "metadata": {},
   "outputs": [],
   "source": [
    "import numpy as np"
   ]
  },
  {
   "cell_type": "code",
   "execution_count": 8,
   "id": "9969f788",
   "metadata": {},
   "outputs": [],
   "source": [
    "y_train=np.asarray(y_train).astype('float32').reshape(y_train.shape[0],1)"
   ]
  },
  {
   "cell_type": "code",
   "execution_count": 9,
   "id": "e8f3314b",
   "metadata": {},
   "outputs": [],
   "source": [
    "y_val=np.asarray(y_val).astype('float32').reshape(y_val.shape[0],1)"
   ]
  },
  {
   "cell_type": "code",
   "execution_count": 13,
   "id": "622244bf",
   "metadata": {},
   "outputs": [],
   "source": [
    "X_test=pickle.load(open('X_test.pkl','rb'))\n",
    "y_test=pickle.load(open('y_test.pkl','rb'))"
   ]
  },
  {
   "cell_type": "code",
   "execution_count": 14,
   "id": "153e3a29",
   "metadata": {},
   "outputs": [],
   "source": [
    "X_test=X_test/255"
   ]
  },
  {
   "cell_type": "code",
   "execution_count": 15,
   "id": "7b3fb077",
   "metadata": {},
   "outputs": [],
   "source": [
    "y_test=np.asarray(y_test).astype('float32').reshape(y_test.shape[0],1)"
   ]
  },
  {
   "cell_type": "code",
   "execution_count": 19,
   "id": "a74ada13",
   "metadata": {},
   "outputs": [],
   "source": [
    "model=Sequential()\n",
    "\n",
    "model.add(Conv2D(16, 3, padding='same', kernel_initializer='he_uniform', activation='relu'))\n",
    "model.add(MaxPooling2D((2,2)))\n",
    "\n",
    "model.add(Conv2D(32, 3, padding='same', kernel_initializer='he_uniform', activation='relu'))\n",
    "model.add(MaxPooling2D((2,2)))\n",
    "\n",
    "model.add(Conv2D(64, 3, padding='same', kernel_initializer='he_uniform', activation='relu'))\n",
    "model.add(MaxPooling2D((2,2)))\n",
    "\n",
    "model.add(Flatten())\n",
    "\n",
    "model.add(Dense(128, kernel_initializer='he_uniform',activation=\"relu\"))\n",
    "\n",
    "model.add(Dense(1, activation='sigmoid'))"
   ]
  },
  {
   "cell_type": "code",
   "execution_count": 20,
   "id": "d65c3230",
   "metadata": {},
   "outputs": [],
   "source": [
    "model.compile(optimizer=\"adam\",loss=\"binary_crossentropy\",metrics=[\"accuracy\"])"
   ]
  },
  {
   "cell_type": "code",
   "execution_count": 21,
   "id": "043fca92",
   "metadata": {},
   "outputs": [
    {
     "name": "stderr",
     "output_type": "stream",
     "text": [
      "C:\\Users\\TR\\anaconda3\\lib\\site-packages\\tensorflow\\python\\data\\ops\\structured_function.py:264: UserWarning: Even though the `tf.config.experimental_run_functions_eagerly` option is set, this option does not apply to tf.data functions. To force eager execution of tf.data functions, please use `tf.data.experimental.enable_debug_mode()`.\n",
      "  warnings.warn(\n"
     ]
    },
    {
     "name": "stdout",
     "output_type": "stream",
     "text": [
      "Epoch 1/10\n",
      "563/563 [==============================] - 536s 953ms/step - loss: 0.6788 - accuracy: 0.6886 - val_loss: 0.4431 - val_accuracy: 0.7966\n",
      "Epoch 2/10\n",
      "563/563 [==============================] - 551s 979ms/step - loss: 0.4318 - accuracy: 0.7976 - val_loss: 0.3656 - val_accuracy: 0.8431\n",
      "Epoch 3/10\n",
      "563/563 [==============================] - 553s 983ms/step - loss: 0.3370 - accuracy: 0.8521 - val_loss: 0.2414 - val_accuracy: 0.9178\n",
      "Epoch 4/10\n",
      "563/563 [==============================] - 552s 981ms/step - loss: 0.2345 - accuracy: 0.9011 - val_loss: 0.1332 - val_accuracy: 0.9572\n",
      "Epoch 5/10\n",
      "563/563 [==============================] - 548s 974ms/step - loss: 0.1382 - accuracy: 0.9465 - val_loss: 0.0813 - val_accuracy: 0.9807\n",
      "Epoch 6/10\n",
      "563/563 [==============================] - 550s 977ms/step - loss: 0.0810 - accuracy: 0.9706 - val_loss: 0.0374 - val_accuracy: 0.9896\n",
      "Epoch 7/10\n",
      "563/563 [==============================] - 548s 974ms/step - loss: 0.0480 - accuracy: 0.9834 - val_loss: 0.0409 - val_accuracy: 0.9861\n",
      "Epoch 8/10\n",
      "563/563 [==============================] - 549s 974ms/step - loss: 0.0469 - accuracy: 0.9838 - val_loss: 0.0504 - val_accuracy: 0.9824\n",
      "Epoch 9/10\n",
      "563/563 [==============================] - 548s 974ms/step - loss: 0.0391 - accuracy: 0.9862 - val_loss: 0.0199 - val_accuracy: 0.9942\n",
      "Epoch 10/10\n",
      "563/563 [==============================] - 556s 987ms/step - loss: 0.0306 - accuracy: 0.9898 - val_loss: 0.0129 - val_accuracy: 0.9960\n"
     ]
    }
   ],
   "source": [
    "tf.config.experimental_run_functions_eagerly(True)\n",
    "epochs=10\n",
    "history = model.fit(\n",
    "  X_train,y_train,\n",
    "  validation_data=(X_val, y_val),\n",
    "  epochs=10,\n",
    "    batch_size=32\n",
    ")"
   ]
  },
  {
   "cell_type": "code",
   "execution_count": 22,
   "id": "bd670753",
   "metadata": {},
   "outputs": [
    {
     "name": "stdout",
     "output_type": "stream",
     "text": [
      "155/155 [==============================] - 33s 208ms/step - loss: 1.1091 - accuracy: 0.7962\n",
      "[1.1091006994247437, 0.7961874008178711]\n"
     ]
    }
   ],
   "source": [
    "score=model.evaluate(X_test, y_test, verbose=1)\n",
    "print(score)"
   ]
  },
  {
   "cell_type": "markdown",
   "id": "d184d0ac",
   "metadata": {},
   "source": [
    "model accuracy is low in test validation when we compared it with train accuracy"
   ]
  },
  {
   "cell_type": "markdown",
   "id": "eb313fc0",
   "metadata": {},
   "source": [
    "# Test with another images"
   ]
  },
  {
   "cell_type": "code",
   "execution_count": 27,
   "id": "750a0f68",
   "metadata": {},
   "outputs": [],
   "source": [
    "import os\n",
    "import matplotlib.pyplot as plt\n",
    "import cv2\n",
    "img_path =os.path.join(r'C:\\Users\\TR\\OneDrive\\Masaüstü\\Global ai hub\\transfer_learning_project\\kagglecatsanddogs_5340\\PetImages',\"dog.jpg\")\n",
    "img_arr =plt.imread(img_path)\n",
    "img_arr = cv2.resize(img_arr,(200,200))\n"
   ]
  },
  {
   "cell_type": "code",
   "execution_count": 28,
   "id": "b843494c",
   "metadata": {},
   "outputs": [
    {
     "data": {
      "text/plain": [
       "(200, 200, 3)"
      ]
     },
     "execution_count": 28,
     "metadata": {},
     "output_type": "execute_result"
    }
   ],
   "source": [
    "X=np.array(img_arr)\n",
    "X.shape"
   ]
  },
  {
   "cell_type": "code",
   "execution_count": 29,
   "id": "4cdcd69c",
   "metadata": {},
   "outputs": [],
   "source": [
    "X=X/255"
   ]
  },
  {
   "cell_type": "code",
   "execution_count": 30,
   "id": "60cd4783",
   "metadata": {},
   "outputs": [
    {
     "data": {
      "text/plain": [
       "array([[[[0.34117647, 0.35686275, 0.14509804],\n",
       "         [0.30196078, 0.29019608, 0.03921569],\n",
       "         [0.32941176, 0.29019608, 0.01960784],\n",
       "         ...,\n",
       "         [0.23137255, 0.18039216, 0.10588235],\n",
       "         [0.15686275, 0.10980392, 0.05882353],\n",
       "         [0.16470588, 0.14509804, 0.0627451 ]],\n",
       "\n",
       "        [[0.2627451 , 0.2745098 , 0.05882353],\n",
       "         [0.29019608, 0.27843137, 0.01960784],\n",
       "         [0.36078431, 0.32156863, 0.03529412],\n",
       "         ...,\n",
       "         [0.23529412, 0.18431373, 0.1254902 ],\n",
       "         [0.81176471, 0.78431373, 0.75686275],\n",
       "         [0.78039216, 0.76078431, 0.71764706]],\n",
       "\n",
       "        [[0.25882353, 0.2627451 , 0.02352941],\n",
       "         [0.30196078, 0.28235294, 0.01960784],\n",
       "         [0.40392157, 0.36078431, 0.03137255],\n",
       "         ...,\n",
       "         [0.21960784, 0.16470588, 0.11372549],\n",
       "         [0.81568627, 0.8       , 0.79607843],\n",
       "         [0.80392157, 0.79215686, 0.76470588]],\n",
       "\n",
       "        ...,\n",
       "\n",
       "        [[0.6627451 , 0.61568627, 0.40392157],\n",
       "         [0.67843137, 0.56862745, 0.4       ],\n",
       "         [0.65882353, 0.61176471, 0.40392157],\n",
       "         ...,\n",
       "         [0.65490196, 0.61568627, 0.43137255],\n",
       "         [0.59607843, 0.57647059, 0.31764706],\n",
       "         [0.67058824, 0.63921569, 0.34117647]],\n",
       "\n",
       "        [[0.60392157, 0.55294118, 0.38039216],\n",
       "         [0.65490196, 0.56078431, 0.42352941],\n",
       "         [0.64313725, 0.59607843, 0.41176471],\n",
       "         ...,\n",
       "         [0.67058824, 0.61960784, 0.48627451],\n",
       "         [0.58823529, 0.54509804, 0.34509804],\n",
       "         [0.60392157, 0.56470588, 0.3254902 ]],\n",
       "\n",
       "        [[0.56862745, 0.51372549, 0.37647059],\n",
       "         [0.6627451 , 0.58823529, 0.46666667],\n",
       "         [0.65098039, 0.6       , 0.42745098],\n",
       "         ...,\n",
       "         [0.7372549 , 0.67843137, 0.58823529],\n",
       "         [0.62352941, 0.56470588, 0.40392157],\n",
       "         [0.6       , 0.54901961, 0.36470588]]]])"
      ]
     },
     "execution_count": 30,
     "metadata": {},
     "output_type": "execute_result"
    }
   ],
   "source": [
    "X = np.expand_dims(X, axis = 0)\n",
    "np.reshape(X,(-1,200,200,3))"
   ]
  },
  {
   "cell_type": "code",
   "execution_count": 31,
   "id": "f4ffcafd",
   "metadata": {},
   "outputs": [
    {
     "name": "stdout",
     "output_type": "stream",
     "text": [
      "1/1 [==============================] - 0s 29ms/step\n",
      "probability = 1.0\n",
      "Prediction = dog\n"
     ]
    }
   ],
   "source": [
    "result = model.predict(X)\n",
    "if result[0][0] >= 0.5:\n",
    "    prediction = 'dog'\n",
    "    probability = result[0][0]\n",
    "    print(\"probability = \" + str(probability))\n",
    "else:\n",
    "    prediction = 'cat'\n",
    "    probability = 1 - result[0][0]\n",
    "    print(\"probability = \" + str(probability))\n",
    "print(\"Prediction = \" + prediction)"
   ]
  },
  {
   "cell_type": "code",
   "execution_count": null,
   "id": "e0f05060",
   "metadata": {},
   "outputs": [],
   "source": []
  }
 ],
 "metadata": {
  "kernelspec": {
   "display_name": "Python 3 (ipykernel)",
   "language": "python",
   "name": "python3"
  },
  "language_info": {
   "codemirror_mode": {
    "name": "ipython",
    "version": 3
   },
   "file_extension": ".py",
   "mimetype": "text/x-python",
   "name": "python",
   "nbconvert_exporter": "python",
   "pygments_lexer": "ipython3",
   "version": "3.9.12"
  }
 },
 "nbformat": 4,
 "nbformat_minor": 5
}
