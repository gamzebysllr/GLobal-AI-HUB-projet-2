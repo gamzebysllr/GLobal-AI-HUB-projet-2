{
 "cells": [
  {
   "cell_type": "code",
   "execution_count": 1,
   "id": "32babddc",
   "metadata": {},
   "outputs": [],
   "source": [
    "import numpy as np\n",
    "import cv2\n",
    "import os\n",
    "import random\n",
    "import matplotlib.pyplot as plt\n",
    "import pickle"
   ]
  },
  {
   "cell_type": "code",
   "execution_count": 2,
   "id": "50644f5e",
   "metadata": {},
   "outputs": [],
   "source": [
    "DIRECTORY=r'C:\\Users\\TR\\OneDrive\\Masaüstü\\Global ai hub\\transfer_learning_project\\kagglecatsanddogs_5340\\PetImages'\n",
    "CATEGORIES=[\"Cat\",\"Dog\"]"
   ]
  },
  {
   "cell_type": "code",
   "execution_count": 3,
   "id": "dcf586cc",
   "metadata": {},
   "outputs": [
    {
     "name": "stdout",
     "output_type": "stream",
     "text": [
      "C:\\Users\\TR\\OneDrive\\Masaüstü\\Global ai hub\\transfer_learning_project\\kagglecatsanddogs_5340\\PetImages\\Cat\\10125.jpg\n",
      "C:\\Users\\TR\\OneDrive\\Masaüstü\\Global ai hub\\transfer_learning_project\\kagglecatsanddogs_5340\\PetImages\\Cat\\10501.jpg\n",
      "C:\\Users\\TR\\OneDrive\\Masaüstü\\Global ai hub\\transfer_learning_project\\kagglecatsanddogs_5340\\PetImages\\Cat\\10820.jpg\n",
      "C:\\Users\\TR\\OneDrive\\Masaüstü\\Global ai hub\\transfer_learning_project\\kagglecatsanddogs_5340\\PetImages\\Cat\\11095.jpg\n",
      "C:\\Users\\TR\\OneDrive\\Masaüstü\\Global ai hub\\transfer_learning_project\\kagglecatsanddogs_5340\\PetImages\\Cat\\11210.jpg\n",
      "C:\\Users\\TR\\OneDrive\\Masaüstü\\Global ai hub\\transfer_learning_project\\kagglecatsanddogs_5340\\PetImages\\Cat\\11565.jpg\n",
      "C:\\Users\\TR\\OneDrive\\Masaüstü\\Global ai hub\\transfer_learning_project\\kagglecatsanddogs_5340\\PetImages\\Cat\\11874.jpg\n",
      "C:\\Users\\TR\\OneDrive\\Masaüstü\\Global ai hub\\transfer_learning_project\\kagglecatsanddogs_5340\\PetImages\\Cat\\11935.jpg\n",
      "C:\\Users\\TR\\OneDrive\\Masaüstü\\Global ai hub\\transfer_learning_project\\kagglecatsanddogs_5340\\PetImages\\Cat\\12080.jpg\n",
      "C:\\Users\\TR\\OneDrive\\Masaüstü\\Global ai hub\\transfer_learning_project\\kagglecatsanddogs_5340\\PetImages\\Cat\\140.jpg\n",
      "C:\\Users\\TR\\OneDrive\\Masaüstü\\Global ai hub\\transfer_learning_project\\kagglecatsanddogs_5340\\PetImages\\Cat\\2663.jpg\n",
      "C:\\Users\\TR\\OneDrive\\Masaüstü\\Global ai hub\\transfer_learning_project\\kagglecatsanddogs_5340\\PetImages\\Cat\\2939.jpg\n",
      "C:\\Users\\TR\\OneDrive\\Masaüstü\\Global ai hub\\transfer_learning_project\\kagglecatsanddogs_5340\\PetImages\\Cat\\3300.jpg\n",
      "C:\\Users\\TR\\OneDrive\\Masaüstü\\Global ai hub\\transfer_learning_project\\kagglecatsanddogs_5340\\PetImages\\Cat\\3491.jpg\n",
      "C:\\Users\\TR\\OneDrive\\Masaüstü\\Global ai hub\\transfer_learning_project\\kagglecatsanddogs_5340\\PetImages\\Cat\\4833.jpg\n",
      "C:\\Users\\TR\\OneDrive\\Masaüstü\\Global ai hub\\transfer_learning_project\\kagglecatsanddogs_5340\\PetImages\\Cat\\5370.jpg\n",
      "C:\\Users\\TR\\OneDrive\\Masaüstü\\Global ai hub\\transfer_learning_project\\kagglecatsanddogs_5340\\PetImages\\Cat\\5553.jpg\n",
      "C:\\Users\\TR\\OneDrive\\Masaüstü\\Global ai hub\\transfer_learning_project\\kagglecatsanddogs_5340\\PetImages\\Cat\\5686.jpg\n",
      "C:\\Users\\TR\\OneDrive\\Masaüstü\\Global ai hub\\transfer_learning_project\\kagglecatsanddogs_5340\\PetImages\\Cat\\6435.jpg\n",
      "C:\\Users\\TR\\OneDrive\\Masaüstü\\Global ai hub\\transfer_learning_project\\kagglecatsanddogs_5340\\PetImages\\Cat\\660.jpg\n",
      "cannot identify image file 'C:\\\\Users\\\\TR\\\\OneDrive\\\\Masaüstü\\\\Global ai hub\\\\transfer_learning_project\\\\kagglecatsanddogs_5340\\\\PetImages\\\\Cat\\\\666.jpg'\n",
      "C:\\Users\\TR\\OneDrive\\Masaüstü\\Global ai hub\\transfer_learning_project\\kagglecatsanddogs_5340\\PetImages\\Cat\\7276.jpg\n",
      "C:\\Users\\TR\\OneDrive\\Masaüstü\\Global ai hub\\transfer_learning_project\\kagglecatsanddogs_5340\\PetImages\\Cat\\7968.jpg\n",
      "C:\\Users\\TR\\OneDrive\\Masaüstü\\Global ai hub\\transfer_learning_project\\kagglecatsanddogs_5340\\PetImages\\Cat\\7978.jpg\n",
      "C:\\Users\\TR\\OneDrive\\Masaüstü\\Global ai hub\\transfer_learning_project\\kagglecatsanddogs_5340\\PetImages\\Cat\\8470.jpg\n",
      "C:\\Users\\TR\\OneDrive\\Masaüstü\\Global ai hub\\transfer_learning_project\\kagglecatsanddogs_5340\\PetImages\\Cat\\850.jpg\n",
      "C:\\Users\\TR\\OneDrive\\Masaüstü\\Global ai hub\\transfer_learning_project\\kagglecatsanddogs_5340\\PetImages\\Cat\\9171.jpg\n",
      "C:\\Users\\TR\\OneDrive\\Masaüstü\\Global ai hub\\transfer_learning_project\\kagglecatsanddogs_5340\\PetImages\\Cat\\936.jpg\n",
      "C:\\Users\\TR\\OneDrive\\Masaüstü\\Global ai hub\\transfer_learning_project\\kagglecatsanddogs_5340\\PetImages\\Cat\\9565.jpg\n",
      "C:\\Users\\TR\\OneDrive\\Masaüstü\\Global ai hub\\transfer_learning_project\\kagglecatsanddogs_5340\\PetImages\\Cat\\9778.jpg\n",
      "cannot identify image file 'C:\\\\Users\\\\TR\\\\OneDrive\\\\Masaüstü\\\\Global ai hub\\\\transfer_learning_project\\\\kagglecatsanddogs_5340\\\\PetImages\\\\Cat\\\\Thumbs.db'\n",
      "C:\\Users\\TR\\OneDrive\\Masaüstü\\Global ai hub\\transfer_learning_project\\kagglecatsanddogs_5340\\PetImages\\Dog\\10158.jpg\n",
      "C:\\Users\\TR\\OneDrive\\Masaüstü\\Global ai hub\\transfer_learning_project\\kagglecatsanddogs_5340\\PetImages\\Dog\\10401.jpg\n",
      "C:\\Users\\TR\\OneDrive\\Masaüstü\\Global ai hub\\transfer_learning_project\\kagglecatsanddogs_5340\\PetImages\\Dog\\10747.jpg\n",
      "C:\\Users\\TR\\OneDrive\\Masaüstü\\Global ai hub\\transfer_learning_project\\kagglecatsanddogs_5340\\PetImages\\Dog\\10797.jpg\n",
      "C:\\Users\\TR\\OneDrive\\Masaüstü\\Global ai hub\\transfer_learning_project\\kagglecatsanddogs_5340\\PetImages\\Dog\\11285.jpg\n",
      "C:\\Users\\TR\\OneDrive\\Masaüstü\\Global ai hub\\transfer_learning_project\\kagglecatsanddogs_5340\\PetImages\\Dog\\11410.jpg\n",
      "C:\\Users\\TR\\OneDrive\\Masaüstü\\Global ai hub\\transfer_learning_project\\kagglecatsanddogs_5340\\PetImages\\Dog\\11675.jpg\n",
      "cannot identify image file 'C:\\\\Users\\\\TR\\\\OneDrive\\\\Masaüstü\\\\Global ai hub\\\\transfer_learning_project\\\\kagglecatsanddogs_5340\\\\PetImages\\\\Dog\\\\11702.jpg'\n",
      "C:\\Users\\TR\\OneDrive\\Masaüstü\\Global ai hub\\transfer_learning_project\\kagglecatsanddogs_5340\\PetImages\\Dog\\11849.jpg\n",
      "C:\\Users\\TR\\OneDrive\\Masaüstü\\Global ai hub\\transfer_learning_project\\kagglecatsanddogs_5340\\PetImages\\Dog\\11853.jpg\n",
      "C:\\Users\\TR\\OneDrive\\Masaüstü\\Global ai hub\\transfer_learning_project\\kagglecatsanddogs_5340\\PetImages\\Dog\\1259.jpg\n",
      "C:\\Users\\TR\\OneDrive\\Masaüstü\\Global ai hub\\transfer_learning_project\\kagglecatsanddogs_5340\\PetImages\\Dog\\1308.jpg\n",
      "C:\\Users\\TR\\OneDrive\\Masaüstü\\Global ai hub\\transfer_learning_project\\kagglecatsanddogs_5340\\PetImages\\Dog\\1773.jpg\n",
      "C:\\Users\\TR\\OneDrive\\Masaüstü\\Global ai hub\\transfer_learning_project\\kagglecatsanddogs_5340\\PetImages\\Dog\\1789.jpg\n",
      "C:\\Users\\TR\\OneDrive\\Masaüstü\\Global ai hub\\transfer_learning_project\\kagglecatsanddogs_5340\\PetImages\\Dog\\1866.jpg\n",
      "C:\\Users\\TR\\OneDrive\\Masaüstü\\Global ai hub\\transfer_learning_project\\kagglecatsanddogs_5340\\PetImages\\Dog\\2384.jpg\n",
      "C:\\Users\\TR\\OneDrive\\Masaüstü\\Global ai hub\\transfer_learning_project\\kagglecatsanddogs_5340\\PetImages\\Dog\\2688.jpg\n",
      "C:\\Users\\TR\\OneDrive\\Masaüstü\\Global ai hub\\transfer_learning_project\\kagglecatsanddogs_5340\\PetImages\\Dog\\2877.jpg\n",
      "C:\\Users\\TR\\OneDrive\\Masaüstü\\Global ai hub\\transfer_learning_project\\kagglecatsanddogs_5340\\PetImages\\Dog\\3136.jpg\n",
      "C:\\Users\\TR\\OneDrive\\Masaüstü\\Global ai hub\\transfer_learning_project\\kagglecatsanddogs_5340\\PetImages\\Dog\\3288.jpg\n",
      "C:\\Users\\TR\\OneDrive\\Masaüstü\\Global ai hub\\transfer_learning_project\\kagglecatsanddogs_5340\\PetImages\\Dog\\3588.jpg\n",
      "C:\\Users\\TR\\OneDrive\\Masaüstü\\Global ai hub\\transfer_learning_project\\kagglecatsanddogs_5340\\PetImages\\Dog\\3823.jpg\n",
      "C:\\Users\\TR\\OneDrive\\Masaüstü\\Global ai hub\\transfer_learning_project\\kagglecatsanddogs_5340\\PetImages\\Dog\\4367.jpg\n",
      "C:\\Users\\TR\\OneDrive\\Masaüstü\\Global ai hub\\transfer_learning_project\\kagglecatsanddogs_5340\\PetImages\\Dog\\5604.jpg\n",
      "C:\\Users\\TR\\OneDrive\\Masaüstü\\Global ai hub\\transfer_learning_project\\kagglecatsanddogs_5340\\PetImages\\Dog\\5736.jpg\n",
      "C:\\Users\\TR\\OneDrive\\Masaüstü\\Global ai hub\\transfer_learning_project\\kagglecatsanddogs_5340\\PetImages\\Dog\\6059.jpg\n",
      "C:\\Users\\TR\\OneDrive\\Masaüstü\\Global ai hub\\transfer_learning_project\\kagglecatsanddogs_5340\\PetImages\\Dog\\6238.jpg\n",
      "C:\\Users\\TR\\OneDrive\\Masaüstü\\Global ai hub\\transfer_learning_project\\kagglecatsanddogs_5340\\PetImages\\Dog\\6245.jpg\n",
      "C:\\Users\\TR\\OneDrive\\Masaüstü\\Global ai hub\\transfer_learning_project\\kagglecatsanddogs_5340\\PetImages\\Dog\\6318.jpg\n",
      "C:\\Users\\TR\\OneDrive\\Masaüstü\\Global ai hub\\transfer_learning_project\\kagglecatsanddogs_5340\\PetImages\\Dog\\6718.jpg\n",
      "C:\\Users\\TR\\OneDrive\\Masaüstü\\Global ai hub\\transfer_learning_project\\kagglecatsanddogs_5340\\PetImages\\Dog\\7112.jpg\n",
      "C:\\Users\\TR\\OneDrive\\Masaüstü\\Global ai hub\\transfer_learning_project\\kagglecatsanddogs_5340\\PetImages\\Dog\\7133.jpg\n",
      "C:\\Users\\TR\\OneDrive\\Masaüstü\\Global ai hub\\transfer_learning_project\\kagglecatsanddogs_5340\\PetImages\\Dog\\7369.jpg\n",
      "C:\\Users\\TR\\OneDrive\\Masaüstü\\Global ai hub\\transfer_learning_project\\kagglecatsanddogs_5340\\PetImages\\Dog\\7459.jpg\n",
      "C:\\Users\\TR\\OneDrive\\Masaüstü\\Global ai hub\\transfer_learning_project\\kagglecatsanddogs_5340\\PetImages\\Dog\\7514.jpg\n",
      "C:\\Users\\TR\\OneDrive\\Masaüstü\\Global ai hub\\transfer_learning_project\\kagglecatsanddogs_5340\\PetImages\\Dog\\7969.jpg\n",
      "C:\\Users\\TR\\OneDrive\\Masaüstü\\Global ai hub\\transfer_learning_project\\kagglecatsanddogs_5340\\PetImages\\Dog\\8730.jpg\n"
     ]
    },
    {
     "name": "stderr",
     "output_type": "stream",
     "text": [
      "C:\\Users\\TR\\anaconda3\\lib\\site-packages\\PIL\\TiffImagePlugin.py:822: UserWarning: Truncated File Read\n",
      "  warnings.warn(str(msg))\n"
     ]
    },
    {
     "name": "stdout",
     "output_type": "stream",
     "text": [
      "C:\\Users\\TR\\OneDrive\\Masaüstü\\Global ai hub\\transfer_learning_project\\kagglecatsanddogs_5340\\PetImages\\Dog\\9078.jpg\n",
      "C:\\Users\\TR\\OneDrive\\Masaüstü\\Global ai hub\\transfer_learning_project\\kagglecatsanddogs_5340\\PetImages\\Dog\\9188.jpg\n",
      "cannot identify image file 'C:\\\\Users\\\\TR\\\\OneDrive\\\\Masaüstü\\\\Global ai hub\\\\transfer_learning_project\\\\kagglecatsanddogs_5340\\\\PetImages\\\\Dog\\\\Thumbs.db'\n"
     ]
    }
   ],
   "source": [
    "data=[]\n",
    "\n",
    "for category in CATEGORIES:\n",
    "        folder=os.path.join(DIRECTORY,category)\n",
    "        label=CATEGORIES.index(category)\n",
    "        for img in os.listdir(folder):\n",
    "            try:\n",
    "                img_path =os.path.join(folder,img)\n",
    "                img_arr =plt.imread(img_path)\n",
    "                img_arr = cv2.resize(img_arr,(200,200))\n",
    "                if(img_arr.shape==(200,200,3)):\n",
    "                    data.append([img_arr,label])\n",
    "                else:\n",
    "                    print(img_path)\n",
    "            except Exception as e:\n",
    "                print(str(e))"
   ]
  },
  {
   "cell_type": "code",
   "execution_count": 4,
   "id": "83551109",
   "metadata": {},
   "outputs": [
    {
     "data": {
      "text/plain": [
       "24931"
      ]
     },
     "execution_count": 4,
     "metadata": {},
     "output_type": "execute_result"
    }
   ],
   "source": [
    "len(data)"
   ]
  },
  {
   "cell_type": "code",
   "execution_count": 5,
   "id": "ea17450e",
   "metadata": {},
   "outputs": [],
   "source": [
    "random.shuffle(data)"
   ]
  },
  {
   "cell_type": "code",
   "execution_count": 13,
   "id": "98363a30",
   "metadata": {},
   "outputs": [],
   "source": [
    "X_train=[]\n",
    "y_train=[]\n",
    "X_val=[]\n",
    "y_val=[]\n",
    "X_test=[]\n",
    "y_test=[]\n",
    "for f,l in data[:18000]:\n",
    "    X_train.append(f)\n",
    "    y_train.append(l)\n",
    "for f,l in data[18000:20000]:\n",
    "    X_val.append(f)\n",
    "    y_val.append(l)\n",
    "for f,l in data[20000:]:\n",
    "    X_test.append(f)\n",
    "    y_test.append(l)"
   ]
  },
  {
   "cell_type": "code",
   "execution_count": 14,
   "id": "65158792",
   "metadata": {},
   "outputs": [],
   "source": [
    "X_train=np.array(X_train)\n",
    "y_train=np.array(y_train)\n",
    "X_val=np.array(X_val)\n",
    "y_val=np.array(y_val)\n",
    "X_test=np.array(X_test)\n",
    "y_test=np.array(y_test)"
   ]
  },
  {
   "cell_type": "code",
   "execution_count": 15,
   "id": "92ab974b",
   "metadata": {},
   "outputs": [
    {
     "data": {
      "text/plain": [
       "(18000, 200, 200, 3)"
      ]
     },
     "execution_count": 15,
     "metadata": {},
     "output_type": "execute_result"
    }
   ],
   "source": [
    "X_train.shape"
   ]
  },
  {
   "cell_type": "code",
   "execution_count": 16,
   "id": "9d9d2483",
   "metadata": {},
   "outputs": [
    {
     "data": {
      "text/plain": [
       "(18000,)"
      ]
     },
     "execution_count": 16,
     "metadata": {},
     "output_type": "execute_result"
    }
   ],
   "source": [
    "y_train.shape"
   ]
  },
  {
   "cell_type": "code",
   "execution_count": 17,
   "id": "d5620b86",
   "metadata": {},
   "outputs": [
    {
     "data": {
      "text/plain": [
       "(4931, 200, 200, 3)"
      ]
     },
     "execution_count": 17,
     "metadata": {},
     "output_type": "execute_result"
    }
   ],
   "source": [
    "X_test.shape"
   ]
  },
  {
   "cell_type": "code",
   "execution_count": 18,
   "id": "7b632b51",
   "metadata": {},
   "outputs": [
    {
     "data": {
      "text/plain": [
       "(4931,)"
      ]
     },
     "execution_count": 18,
     "metadata": {},
     "output_type": "execute_result"
    }
   ],
   "source": [
    "y_test.shape"
   ]
  },
  {
   "cell_type": "code",
   "execution_count": 19,
   "id": "9779d9c7",
   "metadata": {},
   "outputs": [
    {
     "data": {
      "text/plain": [
       "1"
      ]
     },
     "execution_count": 19,
     "metadata": {},
     "output_type": "execute_result"
    }
   ],
   "source": [
    "y_test[0]"
   ]
  },
  {
   "cell_type": "code",
   "execution_count": 20,
   "id": "62412132",
   "metadata": {},
   "outputs": [],
   "source": [
    "pickle.dump(X_train,open('X_train.pkl','wb'))\n",
    "pickle.dump(y_train,open('y_train.pkl','wb'))\n",
    "pickle.dump(X_train,open('X_val.pkl','wb'))\n",
    "pickle.dump(y_train,open('y_val.pkl','wb'))\n",
    "pickle.dump(X_test,open('X_test.pkl','wb'))\n",
    "pickle.dump(y_test,open('y_test.pkl','wb'))"
   ]
  },
  {
   "cell_type": "code",
   "execution_count": null,
   "id": "527ccae6",
   "metadata": {},
   "outputs": [],
   "source": []
  }
 ],
 "metadata": {
  "kernelspec": {
   "display_name": "Python 3 (ipykernel)",
   "language": "python",
   "name": "python3"
  },
  "language_info": {
   "codemirror_mode": {
    "name": "ipython",
    "version": 3
   },
   "file_extension": ".py",
   "mimetype": "text/x-python",
   "name": "python",
   "nbconvert_exporter": "python",
   "pygments_lexer": "ipython3",
   "version": "3.9.12"
  }
 },
 "nbformat": 4,
 "nbformat_minor": 5
}
